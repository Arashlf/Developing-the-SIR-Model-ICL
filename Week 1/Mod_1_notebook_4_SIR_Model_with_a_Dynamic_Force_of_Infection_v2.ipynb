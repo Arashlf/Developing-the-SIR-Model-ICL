{
 "cells": [
  {
   "cell_type": "markdown",
   "metadata": {},
   "source": [
    "# SIR Model with a Dynamic Force of Infection"
   ]
  },
  {
   "cell_type": "markdown",
   "metadata": {},
   "source": [
    "In the previous etivity, you gained first experience with the concept of the force of infection. However, in the previous model, we made the unrealistic assumption that the force of infection can be expressed as a constant rate. As you have just learnt, in reality $\\lambda$ changes over time, depending on the number of infected people in the population. This is what we are looking at in this etivity! \n",
    "\n",
    "Remember, the diagram for a simple SIR model looks as follows, except that now we define $\\lambda$ as a function of the infection rate, $\\beta$ (*beta*), and the proportion of the population that is infectious, $I/N$. \n",
    "\n",
    "<img src=\"Graphics_and_Data/m1_nb4_model_diagram.png\">\n",
    "\n",
    "### Question: Write out the differential equations for an SIR model with a dynamic force of infection on paper. Which assumptions are you making in this model structure?\n",
    "\n",
    "Now that you have the differential equations, it's time to simulate this SIR model! In the cell below, copy-paste your code from the model function file that you created in the last etivity, and extend it to capture a dynamic force of infection. Our assumptions for the initial conditions ($S = 999999$, $I = 1$ and $R = 0$), simulation period (60 days) and $\\gamma$ (0.1 days$^{-1}$) remain the same as in the previous etivity, and the daily infection rate $\\beta$ equals 1.\n",
    "\n",
    "Plot the curves of infection, susceptibility and recovery over time like in the previous etivities.\n",
    "\n",
    "### Question: After how many days does the epidemic peak? What is the peak prevalence?"
   ]
  },
  {
   "cell_type": "code",
   "execution_count": 1,
   "metadata": {},
   "outputs": [],
   "source": [
    "## YOUR CODE GOES HERE ##\n",
    "\n",
    "# Hint: one addition you need to make in this etivity is to \n",
    "# calculate the total population size N to be able to\n",
    "# calculate the proportion infected for the force of infection. \n",
    "# How you do this is up to you, but one option would be \n",
    "# to calculate it within the model function where you specify\n",
    "# the differential equations."
   ]
  },
  {
   "cell_type": "markdown",
   "metadata": {},
   "source": [
    "In the second part of the etivity, you get to explore how your epidemic curve changes under different assumptions for $\\beta$ and $\\gamma$. To make this easier, we have written a function that allows you to plot the model output by entering different combinations of parameters. Run the example below, using the same parameter values as your model above, and check that your output was correct. If not, you should first go back to your code to see if you can find your mistake.\n",
    "\n",
    "If everything works, you can start changing the values for $\\beta$ and $\\gamma$ below to explore how the epidemic behaviour changes under different parameter scenarios. We will look at this behaviour in more detail in the next few weeks!\n",
    "\n",
    "### Question: How does the pattern of the epidemic change with different values for $\\beta$ or $\\gamma$? For example, how do these different parameter combinations affect when the peak of the epidemic happens, how many people are infected at the peak, and when the epidemic ends?\n",
    "\n",
    "Note that at this point, the focus is on *describing* what you observe under different parameter assumptions - next week, you will delve deeper into *why* we observe these patterns in an epidemic."
   ]
  },
  {
   "cell_type": "code",
   "execution_count": 2,
   "metadata": {},
   "outputs": [
    {
     "name": "stderr",
     "output_type": "stream",
     "text": [
      "Loading required package: deSolve\n"
     ]
    }
   ],
   "source": [
    "# Run the R code needed first\n",
    "require(deSolve)\n",
    "\n",
    "sir_model <- function(time, state, parameters) {  \n",
    "  \n",
    "  with(as.list(c(state, parameters)), {  \n",
    "  # tell R to look for variable names within the \n",
    "  # state and parameters objects\n",
    "    \n",
    "    N <- S+I+R\n",
    "    \n",
    "    # New: defining lambda as a function of beta and I:\n",
    "    lambda <- beta * I/N\n",
    "    \n",
    "    # The differential equations\n",
    "    dS <- -lambda * S               # people move out of (-) the \n",
    "                                    # S compartment at a rate lambda \n",
    "                                    # (force of infection)\n",
    "    dI <- lambda * S - gamma * I    # people move into (+) the I compartment\n",
    "                                    # from S at a rate lambda, \n",
    "                                    # and move out of (-) the I compartment \n",
    "                                    # at a rate gamma (recovery)\n",
    "    dR <- gamma * I                 # people move into (+) the R compartment\n",
    "                                    # from I at a rate gamma\n",
    "    \n",
    "    # Return the number of people in the S, I and R compartments at each\n",
    "    # timestep \n",
    "    # (in the same order as the input state variables)\n",
    "    return(list(c(dS, dI, dR))) \n",
    "  })\n",
    "  \n",
    "}\n",
    "\n",
    "run_sir_model <- \n",
    "    function(beta, gamma, S0 = 999999, I0 = 1, R0 = 1, duration = 60) {\n",
    "  \n",
    "  initial_state_values <- c(S = S0,  # nearly the whole population we are \n",
    "                                     # modelling is susceptible to infection\n",
    "                            I = I0,  # the epidemic starts with a single\n",
    "                                     # infected person\n",
    "                            R = R0)  # there is no prior immunity in the\n",
    "                                     # population\n",
    "  \n",
    "  parameters <- c(beta = beta, # the rate of infection, \n",
    "                               \n",
    "                  gamma = gamma)  # the rate of recovery, \n",
    "                                  # which acts on those infected\n",
    "\n",
    "  times <- seq(from = 0, to = duration, by = 1) \n",
    "  \n",
    "  output <- as.data.frame(ode(y = initial_state_values, \n",
    "                              times = times, \n",
    "                              func = sir_model,\n",
    "                              parms = parameters))\n",
    "  \n",
    "  # Plotting the output\n",
    "  plot(x = output$time,             # time on the x axis\n",
    "       y = output$S,                # the number of susceptible people at\n",
    "                                      # each timestep on the y axis\n",
    "       type = \"l\",                  # type = \"l\" tells R we want lines \n",
    "                                      # rather than points\n",
    "       ylim = c(0,(S0+I0+R0)),      # the limits of the y axis\n",
    "                                      # (from 0 to the total number of \n",
    "                                      # people)\n",
    "      \n",
    "      xlab = \"Time (days)\", \n",
    "      ylab = \"Number of people\")    # add axis labels\n",
    "  \n",
    "  lines(x = output$time,            # add the number of\n",
    "        y = output$I,                 # infected people at each\n",
    "        col = \"red\")                  # timestep on the y axis\n",
    "                                                    \n",
    "                                                   \n",
    "  lines(x = output$time,            # number of recovered\n",
    "        y = output$R,                 # people at each\n",
    "        col = \"blue\")                 # timestep on the y axis\n",
    "                                                  \n",
    "  legend(x = \"right\",                     # add a legend on the right-hand\n",
    "                                            # side of the plot\n",
    "         legend = c(\"S\", \"I\", \"R\"),       # labels S, I and R for black, \n",
    "         col = c(\"black\", \"red\", \"blue\"),   # red, blue lines respectively\n",
    "         lty = c(1,1))                    # both lines are\n",
    "                                            # solid linetype (lty = 1)\n",
    "  title(main = paste(\"beta =\", beta,      # main title\n",
    "                     \", gamma =\", gamma))\n",
    "}"
   ]
  },
  {
   "cell_type": "code",
   "execution_count": 3,
   "metadata": {},
   "outputs": [
    {
     "ename": "ERROR",
     "evalue": "Error in parse(text = x, srcfile = src): <text>:12:21: unexpected '='\n11: run_sir_model(beta = #YOUR CODE#, \n12:               gamma =\n                        ^\n",
     "output_type": "error",
     "traceback": [
      "Error in parse(text = x, srcfile = src): <text>:12:21: unexpected '='\n11: run_sir_model(beta = #YOUR CODE#, \n12:               gamma =\n                        ^\nTraceback:\n"
     ]
    }
   ],
   "source": [
    "# Prepare the format for the plot display\n",
    "par(mfrow = c(2,4))  # Show 2*4 separate plots in one page\n",
    "                     # (2 rows, 4 per row)\n",
    "\n",
    "# Run the model and plot the output with different beta and gamma values.\n",
    "# You might also have to change the time that you run the model for,\n",
    "# by changing the value of the duration argument, \n",
    "# in units of days (for example, to reproduce your model above, \n",
    "# this would be duration = 60).\n",
    "\n",
    "run_sir_model(beta = #YOUR CODE#, \n",
    "              gamma = #YOUR CODE#,\n",
    "              duration = #YOUR CODE#)\n",
    "run_sir_model(beta = #YOUR CODE#, \n",
    "              gamma = #YOUR CODE#,\n",
    "              duration = #YOUR CODE#) \n",
    "\n",
    "# Repeat the run_sir_model() command here for every parameter combination \n",
    "# you want to try, and adapt the par() command above depending \n",
    "# on how many plots you want to look at"
   ]
  },
  {
   "cell_type": "markdown",
   "metadata": {},
   "source": [
    "Lastly, use the solution code to confirm that your model code is working properly. Make any corrections necessary. It’s worth getting this right at this stage, as this is the basic model structure that you will be building on in the following weeks. Use the corrected code to update your model function file to build on in the following weeks."
   ]
  }
 ],
 "metadata": {
  "kernelspec": {
   "display_name": "R",
   "language": "R",
   "name": "ir"
  },
  "language_info": {
   "codemirror_mode": "r",
   "file_extension": ".r",
   "mimetype": "text/x-r-source",
   "name": "R",
   "pygments_lexer": "r",
   "version": "3.5.1"
  }
 },
 "nbformat": 4,
 "nbformat_minor": 2
}
