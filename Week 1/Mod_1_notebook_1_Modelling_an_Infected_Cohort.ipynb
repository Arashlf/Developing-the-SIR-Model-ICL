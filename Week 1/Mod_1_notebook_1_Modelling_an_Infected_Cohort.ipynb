{
 "cells": [
  {
   "cell_type": "markdown",
   "metadata": {},
   "source": [
    "# Modelling an infected cohort"
   ]
  },
  {
   "cell_type": "markdown",
   "metadata": {},
   "source": [
    "In this etivity, you will code your first simple model and use it to answer a research question. To get used to the format for models in R, we'll start by giving you some parts of the code, and you need to fill in the missing numbers or code blocks by replacing the *#YOUR CODE#* placeholders. At the end of each etivity, we'll provide a solution file that contains the full code, annotated with comments. Make sure you understand each line, and soon you'll be able to write your own model from scratch!\n",
    "\n",
    "Your task is to find out how long it takes for\n",
    "a cohort of infected people to recover. As you saw in the video,\n",
    "to answer this question you need to keep track of 2 populations: \n",
    "those that are infected (compartment $I$), and those that have recovered (compartment $R$). \n",
    "Infected people recover at a rate $\\gamma$ (*gamma*). The differential equations describing this are:\n",
    "\n",
    "\\begin{align}\n",
    "\\frac{dI}{dt} & = -\\gamma I \\\\\n",
    "\\frac{dR}{dt} & = \\gamma I\n",
    "\\end{align}"
   ]
  },
  {
   "cell_type": "markdown",
   "metadata": {},
   "source": [
    "Load the packages which you need for this etivity, by running the following cell:  \n",
    "  \n",
    "  \n"
   ]
  },
  {
   "cell_type": "markdown",
   "metadata": {},
   "source": [
    "  \n",
    "  \n",
    "### Run this cell as it is"
   ]
  },
  {
   "cell_type": "code",
   "execution_count": 37,
   "metadata": {},
   "outputs": [],
   "source": [
    "library(deSolve)   # package to solve the model\n",
    "library(reshape2)  # package to change the shape of the model output\n",
    "library(ggplot2)   # package for plotting\n",
    "library(repr)      # package for changing plot size"
   ]
  },
  {
   "cell_type": "markdown",
   "metadata": {},
   "source": [
    "To start, it is useful to code what we know about the situation we want to model.\n",
    "We are looking at a cohort of 10$^6$ currently infected people, and no one has recovered so far. The average duration of infection is 10 days. The question we want to answer is how many people will recover from the infection over a 4-week period.\n",
    "\n",
    "Given this data, fill in the correct values to the following variables, and run the cell:"
   ]
  },
  {
   "cell_type": "code",
   "execution_count": 9,
   "metadata": {},
   "outputs": [],
   "source": [
    "initial_number_infected <- 1E6         # the initial infected population \n",
    "                                        # size\n",
    "initial_number_recovered <- 0           # the initial number of people in \n",
    "                                        # the recovered state\n",
    "recovery_rate <- 0.1                    # the rate of recovery gamma, \n",
    "                                        # in units of days^-1\n",
    "follow_up_duration <- 28                # the duration to run the model for, \n",
    "                                        # in units of days\n",
    "  \n",
    "# Hint: the units of the recovery rate and the follow-up duration should be\n",
    "# consistent."
   ]
  },
  {
   "cell_type": "markdown",
   "metadata": {},
   "source": [
    "Now, we combine this data into objects that are recognised by the deSolve package as **model input**. To do this, again run the code below."
   ]
  },
  {
   "cell_type": "code",
   "execution_count": 10,
   "metadata": {},
   "outputs": [],
   "source": [
    "# The initial state values are stored as a vector \n",
    "# and each value is assigned a name.\n",
    "initial_state_values <- c(I = initial_number_infected, \n",
    "                          R = initial_number_recovered)\n",
    "\n",
    "# Parameters are also stored as a vector with assigned names and values. \n",
    "parameters <- c(gamma = recovery_rate)  \n",
    "# In this case we only have one parameter, gamma."
   ]
  },
  {
   "cell_type": "markdown",
   "metadata": {},
   "source": [
    "Think about: what kind of information is stored in the ```initial_state_values``` and ```parameters``` vectors?\n",
    "\n",
    "Additionally, we need to specify the time we want the model to run for. This depends on the question we want to answer. In the cell below, the duration you specified earlier is automatically filled in when you run it."
   ]
  },
  {
   "cell_type": "code",
   "execution_count": 11,
   "metadata": {},
   "outputs": [],
   "source": [
    "# The times vector creates a sequence of timepoints at which we want to \n",
    "# calculate the number of people in the I and R compartment.\n",
    "times <- seq(from = 0, to = follow_up_duration, by = 1) "
   ]
  },
  {
   "cell_type": "markdown",
   "metadata": {},
   "source": [
    "Think about: what kind of information is stored in the ```times``` vector?\n",
    "\n",
    "Check your answers by having a look at each of these vectors to familiarise yourself with the structure: in the following code cell we have typed the object names, so you just need to press \"Run\" to see what each of them contains."
   ]
  },
  {
   "cell_type": "code",
   "execution_count": 12,
   "metadata": {},
   "outputs": [
    {
     "data": {
      "text/html": [
       "<dl class=dl-horizontal>\n",
       "\t<dt>I</dt>\n",
       "\t\t<dd>1e+06</dd>\n",
       "\t<dt>R</dt>\n",
       "\t\t<dd>0</dd>\n",
       "</dl>\n"
      ],
      "text/latex": [
       "\\begin{description*}\n",
       "\\item[I] 1e+06\n",
       "\\item[R] 0\n",
       "\\end{description*}\n"
      ],
      "text/markdown": [
       "I\n",
       ":   1e+06R\n",
       ":   0\n",
       "\n"
      ],
      "text/plain": [
       "    I     R \n",
       "1e+06 0e+00 "
      ]
     },
     "metadata": {},
     "output_type": "display_data"
    },
    {
     "data": {
      "text/html": [
       "<strong>gamma:</strong> 0.1"
      ],
      "text/latex": [
       "\\textbf{gamma:} 0.1"
      ],
      "text/markdown": [
       "**gamma:** 0.1"
      ],
      "text/plain": [
       "gamma \n",
       "  0.1 "
      ]
     },
     "metadata": {},
     "output_type": "display_data"
    },
    {
     "data": {
      "text/html": [
       "<ol class=list-inline>\n",
       "\t<li>0</li>\n",
       "\t<li>1</li>\n",
       "\t<li>2</li>\n",
       "\t<li>3</li>\n",
       "\t<li>4</li>\n",
       "\t<li>5</li>\n",
       "\t<li>6</li>\n",
       "\t<li>7</li>\n",
       "\t<li>8</li>\n",
       "\t<li>9</li>\n",
       "\t<li>10</li>\n",
       "\t<li>11</li>\n",
       "\t<li>12</li>\n",
       "\t<li>13</li>\n",
       "\t<li>14</li>\n",
       "\t<li>15</li>\n",
       "\t<li>16</li>\n",
       "\t<li>17</li>\n",
       "\t<li>18</li>\n",
       "\t<li>19</li>\n",
       "\t<li>20</li>\n",
       "\t<li>21</li>\n",
       "\t<li>22</li>\n",
       "\t<li>23</li>\n",
       "\t<li>24</li>\n",
       "\t<li>25</li>\n",
       "\t<li>26</li>\n",
       "\t<li>27</li>\n",
       "\t<li>28</li>\n",
       "</ol>\n"
      ],
      "text/latex": [
       "\\begin{enumerate*}\n",
       "\\item 0\n",
       "\\item 1\n",
       "\\item 2\n",
       "\\item 3\n",
       "\\item 4\n",
       "\\item 5\n",
       "\\item 6\n",
       "\\item 7\n",
       "\\item 8\n",
       "\\item 9\n",
       "\\item 10\n",
       "\\item 11\n",
       "\\item 12\n",
       "\\item 13\n",
       "\\item 14\n",
       "\\item 15\n",
       "\\item 16\n",
       "\\item 17\n",
       "\\item 18\n",
       "\\item 19\n",
       "\\item 20\n",
       "\\item 21\n",
       "\\item 22\n",
       "\\item 23\n",
       "\\item 24\n",
       "\\item 25\n",
       "\\item 26\n",
       "\\item 27\n",
       "\\item 28\n",
       "\\end{enumerate*}\n"
      ],
      "text/markdown": [
       "1. 0\n",
       "2. 1\n",
       "3. 2\n",
       "4. 3\n",
       "5. 4\n",
       "6. 5\n",
       "7. 6\n",
       "8. 7\n",
       "9. 8\n",
       "10. 9\n",
       "11. 10\n",
       "12. 11\n",
       "13. 12\n",
       "14. 13\n",
       "15. 14\n",
       "16. 15\n",
       "17. 16\n",
       "18. 17\n",
       "19. 18\n",
       "20. 19\n",
       "21. 20\n",
       "22. 21\n",
       "23. 22\n",
       "24. 23\n",
       "25. 24\n",
       "26. 25\n",
       "27. 26\n",
       "28. 27\n",
       "29. 28\n",
       "\n",
       "\n"
      ],
      "text/plain": [
       " [1]  0  1  2  3  4  5  6  7  8  9 10 11 12 13 14 15 16 17 18 19 20 21 22 23 24\n",
       "[26] 25 26 27 28"
      ]
     },
     "metadata": {},
     "output_type": "display_data"
    }
   ],
   "source": [
    "initial_state_values\n",
    "parameters\n",
    "times"
   ]
  },
  {
   "cell_type": "markdown",
   "metadata": {},
   "source": [
    "The next step is specifying the model. Using the example code in the introductory document, complete the following model function with the differential equations above."
   ]
  },
  {
   "cell_type": "code",
   "execution_count": 17,
   "metadata": {},
   "outputs": [],
   "source": [
    "cohort_model <- function(time, state, parameters) { \n",
    "  \n",
    "    with(as.list(c(state, parameters)), {\n",
    "      \n",
    "      dI <- - gamma * I\n",
    "      dR <- gamma * I\n",
    "      \n",
    "      return(list(c(dI, dR)))\n",
    "    })\n",
    "  \n",
    "}"
   ]
  },
  {
   "cell_type": "markdown",
   "metadata": {},
   "source": [
    "Now all there's left to do is solving this set of equations using the deSolve package. Fill in the following command, which calculates and stores the number of infected and recovered people at each timestep in the ```output``` dataframe. Don't forget to run it!"
   ]
  },
  {
   "cell_type": "code",
   "execution_count": 18,
   "metadata": {},
   "outputs": [],
   "source": [
    "# Hint: if you can't remember what those arguments correspond to,\n",
    "# just look up the ode help file:\n",
    "?ode"
   ]
  },
  {
   "cell_type": "code",
   "execution_count": 19,
   "metadata": {},
   "outputs": [],
   "source": [
    "output <- as.data.frame(ode(y = initial_state_values, \n",
    "                            times = times, \n",
    "                            func = cohort_model,\n",
    "                            parms = parameters))"
   ]
  },
  {
   "cell_type": "markdown",
   "metadata": {},
   "source": [
    "Printing the **model output** returns a dataframe with columns ```time``` (containing our times vector), ```I``` (containing the number of infected people at each timestep) and ```R``` (containing the number of recovered people at each timestep):"
   ]
  },
  {
   "cell_type": "code",
   "execution_count": 20,
   "metadata": {},
   "outputs": [
    {
     "data": {
      "text/html": [
       "<table>\n",
       "<thead><tr><th scope=col>time</th><th scope=col>I</th><th scope=col>R</th></tr></thead>\n",
       "<tbody>\n",
       "\t<tr><td> 0        </td><td>1000000.00</td><td>     0.00 </td></tr>\n",
       "\t<tr><td> 1        </td><td> 904837.42</td><td> 95162.58 </td></tr>\n",
       "\t<tr><td> 2        </td><td> 818730.75</td><td>181269.25 </td></tr>\n",
       "\t<tr><td> 3        </td><td> 740818.22</td><td>259181.78 </td></tr>\n",
       "\t<tr><td> 4        </td><td> 670320.04</td><td>329679.96 </td></tr>\n",
       "\t<tr><td> 5        </td><td> 606530.66</td><td>393469.34 </td></tr>\n",
       "\t<tr><td> 6        </td><td> 548811.63</td><td>451188.37 </td></tr>\n",
       "\t<tr><td> 7        </td><td> 496585.30</td><td>503414.70 </td></tr>\n",
       "\t<tr><td> 8        </td><td> 449328.96</td><td>550671.04 </td></tr>\n",
       "\t<tr><td> 9        </td><td> 406569.66</td><td>593430.34 </td></tr>\n",
       "\t<tr><td>10        </td><td> 367879.44</td><td>632120.56 </td></tr>\n",
       "\t<tr><td>11        </td><td> 332871.08</td><td>667128.92 </td></tr>\n",
       "\t<tr><td>12        </td><td> 301194.21</td><td>698805.79 </td></tr>\n",
       "\t<tr><td>13        </td><td> 272531.79</td><td>727468.21 </td></tr>\n",
       "\t<tr><td>14        </td><td> 246596.96</td><td>753403.04 </td></tr>\n",
       "\t<tr><td>15        </td><td> 223130.16</td><td>776869.84 </td></tr>\n",
       "\t<tr><td>16        </td><td> 201896.51</td><td>798103.49 </td></tr>\n",
       "\t<tr><td>17        </td><td> 182683.52</td><td>817316.48 </td></tr>\n",
       "\t<tr><td>18        </td><td> 165298.88</td><td>834701.12 </td></tr>\n",
       "\t<tr><td>19        </td><td> 149568.62</td><td>850431.38 </td></tr>\n",
       "\t<tr><td>20        </td><td> 135335.28</td><td>864664.72 </td></tr>\n",
       "\t<tr><td>21        </td><td> 122456.42</td><td>877543.58 </td></tr>\n",
       "\t<tr><td>22        </td><td> 110803.15</td><td>889196.85 </td></tr>\n",
       "\t<tr><td>23        </td><td> 100258.84</td><td>899741.16 </td></tr>\n",
       "\t<tr><td>24        </td><td>  90717.95</td><td>909282.05 </td></tr>\n",
       "\t<tr><td>25        </td><td>  82085.00</td><td>917915.00 </td></tr>\n",
       "\t<tr><td>26        </td><td>  74273.58</td><td>925726.42 </td></tr>\n",
       "\t<tr><td>27        </td><td>  67205.51</td><td>932794.49 </td></tr>\n",
       "\t<tr><td>28        </td><td>  60810.06</td><td>939189.94 </td></tr>\n",
       "</tbody>\n",
       "</table>\n"
      ],
      "text/latex": [
       "\\begin{tabular}{r|lll}\n",
       " time & I & R\\\\\n",
       "\\hline\n",
       "\t  0         & 1000000.00 &      0.00 \\\\\n",
       "\t  1         &  904837.42 &  95162.58 \\\\\n",
       "\t  2         &  818730.75 & 181269.25 \\\\\n",
       "\t  3         &  740818.22 & 259181.78 \\\\\n",
       "\t  4         &  670320.04 & 329679.96 \\\\\n",
       "\t  5         &  606530.66 & 393469.34 \\\\\n",
       "\t  6         &  548811.63 & 451188.37 \\\\\n",
       "\t  7         &  496585.30 & 503414.70 \\\\\n",
       "\t  8         &  449328.96 & 550671.04 \\\\\n",
       "\t  9         &  406569.66 & 593430.34 \\\\\n",
       "\t 10         &  367879.44 & 632120.56 \\\\\n",
       "\t 11         &  332871.08 & 667128.92 \\\\\n",
       "\t 12         &  301194.21 & 698805.79 \\\\\n",
       "\t 13         &  272531.79 & 727468.21 \\\\\n",
       "\t 14         &  246596.96 & 753403.04 \\\\\n",
       "\t 15         &  223130.16 & 776869.84 \\\\\n",
       "\t 16         &  201896.51 & 798103.49 \\\\\n",
       "\t 17         &  182683.52 & 817316.48 \\\\\n",
       "\t 18         &  165298.88 & 834701.12 \\\\\n",
       "\t 19         &  149568.62 & 850431.38 \\\\\n",
       "\t 20         &  135335.28 & 864664.72 \\\\\n",
       "\t 21         &  122456.42 & 877543.58 \\\\\n",
       "\t 22         &  110803.15 & 889196.85 \\\\\n",
       "\t 23         &  100258.84 & 899741.16 \\\\\n",
       "\t 24         &   90717.95 & 909282.05 \\\\\n",
       "\t 25         &   82085.00 & 917915.00 \\\\\n",
       "\t 26         &   74273.58 & 925726.42 \\\\\n",
       "\t 27         &   67205.51 & 932794.49 \\\\\n",
       "\t 28         &   60810.06 & 939189.94 \\\\\n",
       "\\end{tabular}\n"
      ],
      "text/markdown": [
       "\n",
       "| time | I | R |\n",
       "|---|---|---|\n",
       "|  0         | 1000000.00 |      0.00  |\n",
       "|  1         |  904837.42 |  95162.58  |\n",
       "|  2         |  818730.75 | 181269.25  |\n",
       "|  3         |  740818.22 | 259181.78  |\n",
       "|  4         |  670320.04 | 329679.96  |\n",
       "|  5         |  606530.66 | 393469.34  |\n",
       "|  6         |  548811.63 | 451188.37  |\n",
       "|  7         |  496585.30 | 503414.70  |\n",
       "|  8         |  449328.96 | 550671.04  |\n",
       "|  9         |  406569.66 | 593430.34  |\n",
       "| 10         |  367879.44 | 632120.56  |\n",
       "| 11         |  332871.08 | 667128.92  |\n",
       "| 12         |  301194.21 | 698805.79  |\n",
       "| 13         |  272531.79 | 727468.21  |\n",
       "| 14         |  246596.96 | 753403.04  |\n",
       "| 15         |  223130.16 | 776869.84  |\n",
       "| 16         |  201896.51 | 798103.49  |\n",
       "| 17         |  182683.52 | 817316.48  |\n",
       "| 18         |  165298.88 | 834701.12  |\n",
       "| 19         |  149568.62 | 850431.38  |\n",
       "| 20         |  135335.28 | 864664.72  |\n",
       "| 21         |  122456.42 | 877543.58  |\n",
       "| 22         |  110803.15 | 889196.85  |\n",
       "| 23         |  100258.84 | 899741.16  |\n",
       "| 24         |   90717.95 | 909282.05  |\n",
       "| 25         |   82085.00 | 917915.00  |\n",
       "| 26         |   74273.58 | 925726.42  |\n",
       "| 27         |   67205.51 | 932794.49  |\n",
       "| 28         |   60810.06 | 939189.94  |\n",
       "\n"
      ],
      "text/plain": [
       "   time I          R        \n",
       "1   0   1000000.00      0.00\n",
       "2   1    904837.42  95162.58\n",
       "3   2    818730.75 181269.25\n",
       "4   3    740818.22 259181.78\n",
       "5   4    670320.04 329679.96\n",
       "6   5    606530.66 393469.34\n",
       "7   6    548811.63 451188.37\n",
       "8   7    496585.30 503414.70\n",
       "9   8    449328.96 550671.04\n",
       "10  9    406569.66 593430.34\n",
       "11 10    367879.44 632120.56\n",
       "12 11    332871.08 667128.92\n",
       "13 12    301194.21 698805.79\n",
       "14 13    272531.79 727468.21\n",
       "15 14    246596.96 753403.04\n",
       "16 15    223130.16 776869.84\n",
       "17 16    201896.51 798103.49\n",
       "18 17    182683.52 817316.48\n",
       "19 18    165298.88 834701.12\n",
       "20 19    149568.62 850431.38\n",
       "21 20    135335.28 864664.72\n",
       "22 21    122456.42 877543.58\n",
       "23 22    110803.15 889196.85\n",
       "24 23    100258.84 899741.16\n",
       "25 24     90717.95 909282.05\n",
       "26 25     82085.00 917915.00\n",
       "27 26     74273.58 925726.42\n",
       "28 27     67205.51 932794.49\n",
       "29 28     60810.06 939189.94"
      ]
     },
     "metadata": {},
     "output_type": "display_data"
    }
   ],
   "source": [
    "output"
   ]
  },
  {
   "cell_type": "markdown",
   "metadata": {},
   "source": [
    "### Question: Based on the output, how many people have recovered after 4 weeks? What proportion of the total population does this correspond to?\n",
    "\n",
    "Now, plot your model output in the following cell, with time on the x axis and the number of infected and recovered people on the y axis.  You can use the introductory document for help with this."
   ]
  },
  {
   "cell_type": "code",
   "execution_count": 58,
   "metadata": {
    "scrolled": true
   },
   "outputs": [
    {
     "data": {
      "image/png": "[encoded data removed]",
      "text/plain": [
       "plot without title"
      ]
     },
     "metadata": {},
     "output_type": "display_data"
    }
   ],
   "source": [
    "# First turn the output dataset into a long format, \n",
    "# so that the number in each compartment at each timestep\n",
    "# are all in the same column\n",
    "output_long <- melt(as.data.frame(output), id = \"time\")                  \n",
    "\n",
    "# Plot the number of people in each compartment over time\n",
    "options(repr.plot.width = 4, repr.plot.height = 2.5)\n",
    "ggplot(data = output_long,          # specify object containing data to plot\n",
    "       aes(x = time, y = value, group = variable, colour = variable)) +   # assign columns to axes and groups\n",
    "  geom_line() +                     # represent data as lines\n",
    "  xlab(\"Time (days)\") +             # add label for x axis\n",
    "  ylab(\"Number of people\")          # add label for y axis"
   ]
  },
  {
   "cell_type": "code",
   "execution_count": 56,
   "metadata": {},
   "outputs": [
    {
     "data": {
      "text/html": [
       "<table>\n",
       "<thead><tr><th></th><th scope=col>time</th><th scope=col>variable</th><th scope=col>value</th></tr></thead>\n",
       "<tbody>\n",
       "\t<tr><th scope=row>7</th><td>6       </td><td>I       </td><td>548811.6</td></tr>\n",
       "\t<tr><th scope=row>8</th><td>7       </td><td>I       </td><td>496585.3</td></tr>\n",
       "\t<tr><th scope=row>36</th><td>6       </td><td>R       </td><td>451188.4</td></tr>\n",
       "\t<tr><th scope=row>37</th><td>7       </td><td>R       </td><td>503414.7</td></tr>\n",
       "</tbody>\n",
       "</table>\n"
      ],
      "text/latex": [
       "\\begin{tabular}{r|lll}\n",
       "  & time & variable & value\\\\\n",
       "\\hline\n",
       "\t7 & 6        & I        & 548811.6\\\\\n",
       "\t8 & 7        & I        & 496585.3\\\\\n",
       "\t36 & 6        & R        & 451188.4\\\\\n",
       "\t37 & 7        & R        & 503414.7\\\\\n",
       "\\end{tabular}\n"
      ],
      "text/markdown": [
       "\n",
       "| <!--/--> | time | variable | value |\n",
       "|---|---|---|---|\n",
       "| 7 | 6        | I        | 548811.6 |\n",
       "| 8 | 7        | I        | 496585.3 |\n",
       "| 36 | 6        | R        | 451188.4 |\n",
       "| 37 | 7        | R        | 503414.7 |\n",
       "\n"
      ],
      "text/plain": [
       "   time variable value   \n",
       "7  6    I        548811.6\n",
       "8  7    I        496585.3\n",
       "36 6    R        451188.4\n",
       "37 7    R        503414.7"
      ]
     },
     "metadata": {},
     "output_type": "display_data"
    }
   ],
   "source": [
    "library(\"dplyr\")\n",
    "output_long[between(output_long$time, 6, 7), ]"
   ]
  },
  {
   "cell_type": "markdown",
   "metadata": {},
   "source": [
    "### Question: Based on the plot, at what timepoint were infected and recovered individuals equal in number?\n",
    "Somewhere close to `t=7`"
   ]
  },
  {
   "cell_type": "markdown",
   "metadata": {},
   "source": [
    "For the last part of the etivity, try varying $\\gamma$ to see how it affects the output. For example, in the cell below change ```gamma``` ($\\gamma$) to correspond to an average infectious period of:  \n",
    "a) 2 days  \n",
    "b) 20 days. \n",
    "\n",
    "What is the recovery rate in these 2 cases?"
   ]
  },
  {
   "cell_type": "code",
   "execution_count": 70,
   "metadata": {},
   "outputs": [],
   "source": [
    "parameters <- c(gamma = 0.5)\n",
    "output <- as.data.frame(ode(y = initial_state_values, \n",
    "                            times = times, \n",
    "                            func = cohort_model,\n",
    "                            parms = parameters))\n",
    "                \n",
    "# Since the initial number in each compartment and \n",
    "# the timesteps of interest haven't changed, \n",
    "# these are the only parts of the code we need to rerun.\n",
    "\n",
    "# Now, copy-paste your plot code from above here to visualise the output.\n",
    "output_long <- melt(as.data.frame(output), id = \"time\")                  \n",
    "\n",
    "# Plot the number of people in each compartment over time\n",
    "p1 <- ggplot(data = output_long,          # specify object containing data to plot\n",
    "       aes(x = time, y = value, group = variable, colour = variable)) +   # assign columns to axes and groups\n",
    "  geom_line() +                     # represent data as lines\n",
    "  xlab(\"Time (days)\") +             # add label for x axis\n",
    "  ylab(\"Number of people\") +        # add label for y axis\n",
    "  ggtitle(\"gamma = 0.5\")"
   ]
  },
  {
   "cell_type": "code",
   "execution_count": 71,
   "metadata": {},
   "outputs": [],
   "source": [
    "parameters <- c(gamma = 0.05)\n",
    "output <- as.data.frame(ode(y = initial_state_values, \n",
    "                            times = times, \n",
    "                            func = cohort_model,\n",
    "                            parms = parameters))\n",
    "                \n",
    "# Since the initial number in each compartment and \n",
    "# the timesteps of interest haven't changed, \n",
    "# these are the only parts of the code we need to rerun.\n",
    "\n",
    "# Now, copy-paste your plot code from above here to visualise the output.\n",
    "output_long <- melt(as.data.frame(output), id = \"time\")                  \n",
    "\n",
    "# Plot the number of people in each compartment over time\n",
    "p2 <- ggplot(data = output_long,          # specify object containing data to plot\n",
    "       aes(x = time, y = value, group = variable, colour = variable)) +   # assign columns to axes and groups\n",
    "  geom_line() +                     # represent data as lines\n",
    "  xlab(\"Time (days)\") +             # add label for x axis\n",
    "  ylab(\"Number of people\") +        # add label for y axis\n",
    "  ggtitle(\"gamma = 0.05\")"
   ]
  },
  {
   "cell_type": "code",
   "execution_count": 72,
   "metadata": {},
   "outputs": [
    {
     "data": {
      "image/png": "[encoded data removed]",
      "text/plain": [
       "plot without title"
      ]
     },
     "metadata": {},
     "output_type": "display_data"
    }
   ],
   "source": [
    "library(gridExtra)\n",
    "options(repr.plot.width = 8, repr.plot.height = 2.5)\n",
    "grid.arrange(p1, p2, nrow = 1)"
   ]
  },
  {
   "cell_type": "markdown",
   "metadata": {},
   "source": [
    "### Question: What changes do you observe in the transition to the recovered compartment if $\\gamma$ is higher or lower? For example, how long does it take for everyone to recover in both cases?\n",
    "gamma is the recovery rate. Thus, lower the values get, longer the recovery will take.\n",
    "\n",
    "## Well done on writing your first model code. Now, check the solutions!\n",
    "\n",
    "After completing an exercise, you should always carefully compare your answers and code with the solutions! It is especially important to get the coding right from the start, because we are building on the same modelling framework throughout the course. Additionally, the solution files sometimes contain further information that will help you deepen your understanding of the lesson.  \n",
    "To make the most of the learning experience, we always recommend trying to complete the whole etivity before checking the solutions - but if you are stuck at any point, they can also help you to move on to the next part."
   ]
  }
 ],
 "metadata": {
  "kernelspec": {
   "display_name": "R",
   "language": "R",
   "name": "ir"
  },
  "language_info": {
   "codemirror_mode": "r",
   "file_extension": ".r",
   "mimetype": "text/x-r-source",
   "name": "R",
   "pygments_lexer": "r",
   "version": "3.5.1"
  }
 },
 "nbformat": 4,
 "nbformat_minor": 2
}
